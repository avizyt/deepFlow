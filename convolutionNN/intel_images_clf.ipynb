{
 "cells": [
  {
   "cell_type": "code",
   "execution_count": 1,
   "metadata": {},
   "outputs": [
    {
     "name": "stderr",
     "output_type": "stream",
     "text": [
      "2022-04-08 21:44:29.720943: W tensorflow/stream_executor/platform/default/dso_loader.cc:64] Could not load dynamic library 'libcudart.so.11.0'; dlerror: libcudart.so.11.0: cannot open shared object file: No such file or directory\n",
      "2022-04-08 21:44:29.720991: I tensorflow/stream_executor/cuda/cudart_stub.cc:29] Ignore above cudart dlerror if you do not have a GPU set up on your machine.\n"
     ]
    }
   ],
   "source": [
    "import tensorflow as tf\n",
    "from keras import layers\n",
    "from keras.datasets import mnist\n",
    "from keras.layers import Dropout\n",
    "from tensorflow import keras\n",
    "\n",
    "import plotly.express as px"
   ]
  },
  {
   "cell_type": "code",
   "execution_count": 4,
   "metadata": {},
   "outputs": [],
   "source": [
    "import os, shutil, pathlib\n",
    "\n",
    "original_dir = pathlib.Path(\"../dataset/intel_images\")\n",
    "new_base_dir = pathlib.Path(\"../dataset/intel_images_small\")"
   ]
  },
  {
   "cell_type": "code",
   "execution_count": 30,
   "metadata": {},
   "outputs": [],
   "source": [
    "def make_subset(subset_name, start_idx, end_idx):\n",
    "    for category in(\"buildings\", \"forest\", \"glacier\", \"mountain\", \"sea\", \"street\"):\n",
    "        new_dir = new_base_dir / subset_name / category\n",
    "        if not new_dir.exists():\n",
    "            os.makedirs(new_dir)\n",
    "        fnames = [os.listdir(original_dir / category)[i] for i in range(start_idx, end_idx)]\n",
    "        for fname in fnames:\n",
    "            shutil.copyfile(src=original_dir / category/ fname, dst=new_dir / fname)"
   ]
  },
  {
   "cell_type": "code",
   "execution_count": 21,
   "metadata": {},
   "outputs": [],
   "source": [
    "# create train test function for splitting of intel images from kaggle\n",
    "# def create_train_test_split(train_size=0.8):\n",
    "#     train_dir = new_base_dir / \"train\"\n",
    "#     test_dir = new_base_dir / \"test\"\n",
    "#     if not train_dir.exists():\n",
    "#         os.makedirs(train_dir)\n",
    "#     if not test_dir.exists():\n",
    "#         os.makedirs(test_dir)\n",
    "#     for category in(\"buildings\", \"forest\", \"glacier\", \"mountain\", \"sea\", \"street\"):\n",
    "#         new_dir = new_base_dir / category\n",
    "#         if not new_dir.exists():\n",
    "#             os.makedirs(new_dir)\n",
    "#         fnames = [f\"{i}.jpg\" for i in range(0, len(os.listdir(original_dir/category)))]\n",
    "#         for fname in fnames:\n",
    "#             shutil.copyfile(src=original_dir/ category / fname, dst=new_dir / train_dir / fname)\n",
    "#         fnames = [f\"{i}.jpg\" for i in range(len(os.listdir(original_dir)), len(os.listdir(original_dir)))]\n",
    "#         for fname in fnames:\n",
    "#             shutil.copyfile(src=new_dir / fname, dst=new_dir / test_dir / fname)"
   ]
  },
  {
   "cell_type": "code",
   "execution_count": 31,
   "metadata": {},
   "outputs": [],
   "source": [
    "make_subset(\"train\", 0, 1000)\n",
    "make_subset(\"valid\", 1000, 1500)\n",
    "make_subset(\"test\", 1500, 2000)"
   ]
  },
  {
   "cell_type": "code",
   "execution_count": null,
   "metadata": {},
   "outputs": [],
   "source": []
  }
 ],
 "metadata": {
  "interpreter": {
   "hash": "9bcb480660d2128d5259e436793ac5c82795c215d28de8bdd682d8e8c0f05304"
  },
  "kernelspec": {
   "display_name": "Python 3.9.7 ('tflow')",
   "language": "python",
   "name": "python3"
  },
  "language_info": {
   "codemirror_mode": {
    "name": "ipython",
    "version": 3
   },
   "file_extension": ".py",
   "mimetype": "text/x-python",
   "name": "python",
   "nbconvert_exporter": "python",
   "pygments_lexer": "ipython3",
   "version": "3.9.7"
  },
  "orig_nbformat": 4
 },
 "nbformat": 4,
 "nbformat_minor": 2
}
