{
 "cells": [
  {
   "cell_type": "code",
   "execution_count": 1,
   "metadata": {},
   "outputs": [
    {
     "name": "stderr",
     "output_type": "stream",
     "text": [
      "2022-04-08 21:44:29.720943: W tensorflow/stream_executor/platform/default/dso_loader.cc:64] Could not load dynamic library 'libcudart.so.11.0'; dlerror: libcudart.so.11.0: cannot open shared object file: No such file or directory\n",
      "2022-04-08 21:44:29.720991: I tensorflow/stream_executor/cuda/cudart_stub.cc:29] Ignore above cudart dlerror if you do not have a GPU set up on your machine.\n"
     ]
    }
   ],
   "source": [
    "import tensorflow as tf\n",
    "from keras import layers\n",
    "from keras.datasets import mnist\n",
    "from keras.layers import Dropout\n",
    "from tensorflow import keras\n",
    "\n",
    "import plotly.express as px"
   ]
  },
  {
   "cell_type": "code",
   "execution_count": 4,
   "metadata": {},
   "outputs": [],
   "source": [
    "import os, shutil, pathlib\n",
    "\n",
    "original_dir = pathlib.Path(\"../dataset/intel_images\")\n",
    "new_base_dir = pathlib.Path(\"../dataset/intel_images_small\")"
   ]
  },
  {
   "cell_type": "code",
   "execution_count": 30,
   "metadata": {},
   "outputs": [],
   "source": [
    "def make_subset(subset_name, start_idx, end_idx):\n",
    "    for category in(\"buildings\", \"forest\", \"glacier\", \"mountain\", \"sea\", \"street\"):\n",
    "        new_dir = new_base_dir / subset_name / category\n",
    "        if not new_dir.exists():\n",
    "            os.makedirs(new_dir)\n",
    "        fnames = [os.listdir(original_dir / category)[i] for i in range(start_idx, end_idx)]\n",
    "        for fname in fnames:\n",
    "            shutil.copyfile(src=original_dir / category/ fname, dst=new_dir / fname)"
   ]
  },
  {
   "cell_type": "code",
   "execution_count": 21,
   "metadata": {},
   "outputs": [],
   "source": [
    "# create train test function for splitting of intel images from kaggle\n",
    "# def create_train_test_split(train_size=0.8):\n",
    "#     train_dir = new_base_dir / \"train\"\n",
    "#     test_dir = new_base_dir / \"test\"\n",
    "#     if not train_dir.exists():\n",
    "#         os.makedirs(train_dir)\n",
    "#     if not test_dir.exists():\n",
    "#         os.makedirs(test_dir)\n",
    "#     for category in(\"buildings\", \"forest\", \"glacier\", \"mountain\", \"sea\", \"street\"):\n",
    "#         new_dir = new_base_dir / category\n",
    "#         if not new_dir.exists():\n",
    "#             os.makedirs(new_dir)\n",
    "#         fnames = [f\"{i}.jpg\" for i in range(0, len(os.listdir(original_dir/category)))]\n",
    "#         for fname in fnames:\n",
    "#             shutil.copyfile(src=original_dir/ category / fname, dst=new_dir / train_dir / fname)\n",
    "#         fnames = [f\"{i}.jpg\" for i in range(len(os.listdir(original_dir)), len(os.listdir(original_dir)))]\n",
    "#         for fname in fnames:\n",
    "#             shutil.copyfile(src=new_dir / fname, dst=new_dir / test_dir / fname)"
   ]
  },
  {
   "cell_type": "markdown",
   "metadata": {},
   "source": [
    "Make train test and valid set"
   ]
  },
  {
   "cell_type": "code",
   "execution_count": 31,
   "metadata": {},
   "outputs": [],
   "source": [
    "make_subset(\"train\", 0, 1000)\n",
    "make_subset(\"valid\", 1000, 1500)\n",
    "make_subset(\"test\", 1500, 2000)"
   ]
  },
  {
   "cell_type": "markdown",
   "metadata": {},
   "source": [
    "### Model development"
   ]
  },
  {
   "cell_type": "code",
   "execution_count": 32,
   "metadata": {},
   "outputs": [
    {
     "name": "stderr",
     "output_type": "stream",
     "text": [
      "2022-04-08 22:41:25.905047: W tensorflow/stream_executor/platform/default/dso_loader.cc:64] Could not load dynamic library 'libcuda.so.1'; dlerror: libcuda.so.1: cannot open shared object file: No such file or directory\n",
      "2022-04-08 22:41:25.905089: W tensorflow/stream_executor/cuda/cuda_driver.cc:269] failed call to cuInit: UNKNOWN ERROR (303)\n",
      "2022-04-08 22:41:25.905109: I tensorflow/stream_executor/cuda/cuda_diagnostics.cc:156] kernel driver does not appear to be running on this host (linux): /proc/driver/nvidia/version does not exist\n",
      "2022-04-08 22:41:25.905401: I tensorflow/core/platform/cpu_feature_guard.cc:151] This TensorFlow binary is optimized with oneAPI Deep Neural Network Library (oneDNN) to use the following CPU instructions in performance-critical operations:  AVX2 FMA\n",
      "To enable them in other operations, rebuild TensorFlow with the appropriate compiler flags.\n"
     ]
    }
   ],
   "source": [
    "inputs = keras.Input(shape=(180, 180, 3))\n",
    "x = layers.Rescaling(1. / 255)(inputs)\n",
    "x = layers.Conv2D(filters=32, kernel_size=3, activation='relu')(x)\n",
    "x = layers.MaxPooling2D(pool_size=2)(x)\n",
    "x = layers.Conv2D(filters=64, kernel_size=3, activation='relu')(x)\n",
    "x = layers.MaxPooling2D(pool_size=2)(x)\n",
    "x = layers.Conv2D(filters=128, kernel_size=3, activation='relu')(x)\n",
    "x = layers.MaxPooling2D(pool_size=2)(x)\n",
    "x = layers.Conv2D(filters=256, kernel_size=3, activation='relu')(x)\n",
    "x = layers.Flatten()(x)\n",
    "\n",
    "outputs = layers.Dense(units=6, activation='softmax')(x)\n",
    "model = keras.Model(inputs=inputs, outputs=outputs)"
   ]
  },
  {
   "cell_type": "code",
   "execution_count": 33,
   "metadata": {},
   "outputs": [
    {
     "name": "stdout",
     "output_type": "stream",
     "text": [
      "Model: \"model\"\n",
      "_________________________________________________________________\n",
      " Layer (type)                Output Shape              Param #   \n",
      "=================================================================\n",
      " input_1 (InputLayer)        [(None, 180, 180, 3)]     0         \n",
      "                                                                 \n",
      " rescaling (Rescaling)       (None, 180, 180, 3)       0         \n",
      "                                                                 \n",
      " conv2d (Conv2D)             (None, 178, 178, 32)      896       \n",
      "                                                                 \n",
      " max_pooling2d (MaxPooling2D  (None, 89, 89, 32)       0         \n",
      " )                                                               \n",
      "                                                                 \n",
      " conv2d_1 (Conv2D)           (None, 87, 87, 64)        18496     \n",
      "                                                                 \n",
      " max_pooling2d_1 (MaxPooling  (None, 43, 43, 64)       0         \n",
      " 2D)                                                             \n",
      "                                                                 \n",
      " conv2d_2 (Conv2D)           (None, 41, 41, 128)       73856     \n",
      "                                                                 \n",
      " max_pooling2d_2 (MaxPooling  (None, 20, 20, 128)      0         \n",
      " 2D)                                                             \n",
      "                                                                 \n",
      " conv2d_3 (Conv2D)           (None, 18, 18, 256)       295168    \n",
      "                                                                 \n",
      " flatten (Flatten)           (None, 82944)             0         \n",
      "                                                                 \n",
      " dense (Dense)               (None, 6)                 497670    \n",
      "                                                                 \n",
      "=================================================================\n",
      "Total params: 886,086\n",
      "Trainable params: 886,086\n",
      "Non-trainable params: 0\n",
      "_________________________________________________________________\n"
     ]
    }
   ],
   "source": [
    "model.summary()"
   ]
  },
  {
   "cell_type": "code",
   "execution_count": 34,
   "metadata": {},
   "outputs": [
    {
     "name": "stderr",
     "output_type": "stream",
     "text": [
      "/home/avizyt/anaconda3/envs/tflow/lib/python3.9/site-packages/keras/optimizer_v2/adam.py:105: UserWarning: The `lr` argument is deprecated, use `learning_rate` instead.\n",
      "  super(Adam, self).__init__(name, **kwargs)\n"
     ]
    }
   ],
   "source": [
    "model.compile(\n",
    "    optimizer=keras.optimizers.Adam(lr=0.001),\n",
    "    loss=keras.losses.SparseCategoricalCrossentropy(from_logits=True),\n",
    "    metrics=['accuracy']\n",
    "    )\n"
   ]
  },
  {
   "cell_type": "markdown",
   "metadata": {},
   "source": [
    "Setting up the dataset for training"
   ]
  },
  {
   "cell_type": "code",
   "execution_count": 37,
   "metadata": {},
   "outputs": [
    {
     "name": "stdout",
     "output_type": "stream",
     "text": [
      "Found 6000 files belonging to 6 classes.\n",
      "Found 3000 files belonging to 6 classes.\n",
      "Found 3000 files belonging to 6 classes.\n"
     ]
    }
   ],
   "source": [
    "from tensorflow.keras.utils import image_dataset_from_directory\n",
    "\n",
    "train_dataset = image_dataset_from_directory(\n",
    "    directory=new_base_dir / \"train\",\n",
    "    image_size=(180, 180),\n",
    "    batch_size=32\n",
    ")\n",
    "validation_dataset = image_dataset_from_directory(\n",
    "    directory=new_base_dir / \"valid\",\n",
    "    image_size=(180, 180),\n",
    "    batch_size=32\n",
    ")\n",
    "test_dataset = image_dataset_from_directory(\n",
    "    directory=new_base_dir / \"test\",\n",
    "    image_size=(180, 180),\n",
    "    batch_size=32\n",
    ")"
   ]
  },
  {
   "cell_type": "markdown",
   "metadata": {},
   "source": [
    "displaying the shape of the data and labels"
   ]
  },
  {
   "cell_type": "code",
   "execution_count": 38,
   "metadata": {},
   "outputs": [
    {
     "name": "stdout",
     "output_type": "stream",
     "text": [
      "Data batch shape:  (32, 180, 180, 3)\n",
      "Labels batch shape:  (32,)\n"
     ]
    }
   ],
   "source": [
    "for data_batch, labels_batch in train_dataset:\n",
    "    print(\"Data batch shape: \", data_batch.shape)\n",
    "\n",
    "    print(\"Labels batch shape: \", labels_batch.shape)\n",
    "    break"
   ]
  },
  {
   "cell_type": "code",
   "execution_count": 39,
   "metadata": {},
   "outputs": [],
   "source": [
    "callbacks = [\n",
    "    keras.callbacks.ModelCheckpoint(\n",
    "        filepath=\"../models/checkpoints/intel_image_clf.keras\",\n",
    "        save_best_only=True,\n",
    "        monitor='val_accuracy'\n",
    "    )\n",
    "]"
   ]
  },
  {
   "cell_type": "code",
   "execution_count": 40,
   "metadata": {},
   "outputs": [
    {
     "name": "stdout",
     "output_type": "stream",
     "text": [
      "Epoch 1/2\n"
     ]
    },
    {
     "name": "stderr",
     "output_type": "stream",
     "text": [
      "/home/avizyt/anaconda3/envs/tflow/lib/python3.9/site-packages/tensorflow/python/util/dispatch.py:1082: UserWarning: \"`sparse_categorical_crossentropy` received `from_logits=True`, but the `output` argument was produced by a sigmoid or softmax activation and thus does not represent logits. Was this intended?\"\n",
      "  return dispatch_target(*args, **kwargs)\n",
      "2022-04-08 22:56:05.992795: W tensorflow/core/framework/cpu_allocator_impl.cc:82] Allocation of 129777664 exceeds 10% of free system memory.\n",
      "2022-04-08 22:56:06.317993: W tensorflow/core/framework/cpu_allocator_impl.cc:82] Allocation of 32444416 exceeds 10% of free system memory.\n",
      "2022-04-08 22:56:06.337519: W tensorflow/core/framework/cpu_allocator_impl.cc:82] Allocation of 62005248 exceeds 10% of free system memory.\n",
      "2022-04-08 22:56:06.440146: W tensorflow/core/framework/cpu_allocator_impl.cc:82] Allocation of 27541504 exceeds 10% of free system memory.\n",
      "2022-04-08 22:56:06.758401: W tensorflow/core/framework/cpu_allocator_impl.cc:82] Allocation of 27541504 exceeds 10% of free system memory.\n"
     ]
    },
    {
     "name": "stdout",
     "output_type": "stream",
     "text": [
      "188/188 [==============================] - 267s 1s/step - loss: 1.1574 - accuracy: 0.5373 - val_loss: 0.9072 - val_accuracy: 0.6377\n",
      "Epoch 2/2\n",
      "188/188 [==============================] - 264s 1s/step - loss: 0.8617 - accuracy: 0.6703 - val_loss: 0.8003 - val_accuracy: 0.6890\n"
     ]
    }
   ],
   "source": [
    "history = model.fit(\n",
    "    train_dataset,\n",
    "    epochs=2,\n",
    "    validation_data=validation_dataset,\n",
    "    callbacks=callbacks\n",
    ")"
   ]
  },
  {
   "cell_type": "code",
   "execution_count": 41,
   "metadata": {},
   "outputs": [
    {
     "name": "stderr",
     "output_type": "stream",
     "text": [
      "/home/avizyt/anaconda3/envs/tflow/lib/python3.9/site-packages/tensorflow/python/util/dispatch.py:1082: UserWarning: \"`sparse_categorical_crossentropy` received `from_logits=True`, but the `output` argument was produced by a sigmoid or softmax activation and thus does not represent logits. Was this intended?\"\n",
      "  return dispatch_target(*args, **kwargs)\n"
     ]
    },
    {
     "name": "stdout",
     "output_type": "stream",
     "text": [
      "94/94 [==============================] - 31s 314ms/step - loss: 0.8456 - accuracy: 0.6703\n",
      "Test Loss: 0.8456147313117981,Test Accuracy: 0.6703333258628845\n"
     ]
    }
   ],
   "source": [
    "test_model = keras.models.load_model(\"../models/checkpoints/intel_image_clf.keras\")\n",
    "test_loss, test_acc = test_model.evaluate(test_dataset)\n",
    "print(f\"Test Loss: {test_loss},Test Accuracy: {test_acc}\")"
   ]
  }
 ],
 "metadata": {
  "interpreter": {
   "hash": "9bcb480660d2128d5259e436793ac5c82795c215d28de8bdd682d8e8c0f05304"
  },
  "kernelspec": {
   "display_name": "Python 3.9.7 ('tflow')",
   "language": "python",
   "name": "python3"
  },
  "language_info": {
   "codemirror_mode": {
    "name": "ipython",
    "version": 3
   },
   "file_extension": ".py",
   "mimetype": "text/x-python",
   "name": "python",
   "nbconvert_exporter": "python",
   "pygments_lexer": "ipython3",
   "version": "3.9.7"
  },
  "orig_nbformat": 4
 },
 "nbformat": 4,
 "nbformat_minor": 2
}
